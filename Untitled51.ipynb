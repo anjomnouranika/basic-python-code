{
  "nbformat": 4,
  "nbformat_minor": 0,
  "metadata": {
    "colab": {
      "name": "Untitled51.ipynb",
      "provenance": [],
      "collapsed_sections": [],
      "authorship_tag": "ABX9TyNp1Yl/DCMnwIDZOobqqNqG",
      "include_colab_link": true
    },
    "kernelspec": {
      "name": "python3",
      "display_name": "Python 3"
    }
  },
  "cells": [
    {
      "cell_type": "markdown",
      "metadata": {
        "id": "view-in-github",
        "colab_type": "text"
      },
      "source": [
        "<a href=\"https://colab.research.google.com/github/anjomnouranika/basic-python-code/blob/master/Untitled51.ipynb\" target=\"_parent\"><img src=\"https://colab.research.google.com/assets/colab-badge.svg\" alt=\"Open In Colab\"/></a>"
      ]
    },
    {
      "cell_type": "code",
      "metadata": {
        "id": "ukSCmXwGrbeS",
        "colab_type": "code",
        "colab": {
          "base_uri": "https://localhost:8080/",
          "height": 54
        },
        "outputId": "1b520179-f1ff-45ed-e557-a07b47617976"
      },
      "source": [
        "number = int(input(\"number = \"))\n",
        "if (number % 1 == 0 and number % number == 0):\n",
        "  print(\"prime\")\n",
        "else:\n",
        "  print(\"not prime\")  "
      ],
      "execution_count": 3,
      "outputs": [
        {
          "output_type": "stream",
          "text": [
            "number = 2\n",
            "prime\n"
          ],
          "name": "stdout"
        }
      ]
    },
    {
      "cell_type": "code",
      "metadata": {
        "id": "eeJuMsj1xD72",
        "colab_type": "code",
        "colab": {
          "base_uri": "https://localhost:8080/",
          "height": 54
        },
        "outputId": "1df74dba-c4a1-4b27-ca95-688bf3a9d4ae"
      },
      "source": [
        "number = int(input(\"number = \"))\n",
        "count = 0\n",
        "if (number < 1):\n",
        "  print(\"not prime\")\n",
        "else:  \n",
        "  for i in range(2,number-1):\n",
        "    if(number%i == 0):\n",
        "      count = count+1\n",
        "      break  \n",
        "  if(count == 0):\n",
        "     print(\"prime\")\n",
        "  else:\n",
        "   print(\"not prime\")    "
      ],
      "execution_count": 12,
      "outputs": [
        {
          "output_type": "stream",
          "text": [
            "number = 11\n",
            "prime\n"
          ],
          "name": "stdout"
        }
      ]
    }
  ]
}