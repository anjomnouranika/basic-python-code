{
  "nbformat": 4,
  "nbformat_minor": 0,
  "metadata": {
    "colab": {
      "name": "Untitled50.ipynb",
      "provenance": [],
      "collapsed_sections": [],
      "authorship_tag": "ABX9TyMDkd4CirjoJ7kyyAbXoO1r",
      "include_colab_link": true
    },
    "kernelspec": {
      "name": "python3",
      "display_name": "Python 3"
    }
  },
  "cells": [
    {
      "cell_type": "markdown",
      "metadata": {
        "id": "view-in-github",
        "colab_type": "text"
      },
      "source": [
        "<a href=\"https://colab.research.google.com/github/anjomnouranika/basic-python-code/blob/master/Untitled50.ipynb\" target=\"_parent\"><img src=\"https://colab.research.google.com/assets/colab-badge.svg\" alt=\"Open In Colab\"/></a>"
      ]
    },
    {
      "cell_type": "code",
      "metadata": {
        "id": "iJ_ZR_Ejt8v5",
        "colab_type": "code",
        "colab": {}
      },
      "source": [
        "base = int(input(\"base = \"))\n",
        "power = int(input(\"power = \"))\n",
        "x = pow(base,power)\n",
        "print(\"%1d ^ %1d = %1d\"%(base,power,x))\n",
        "\n",
        "base = int(input(\"base = \"))\n",
        "pw = int(input(\"power = \"))\n",
        "pow = 1\n",
        "for  i in range(pw):\n",
        "    pow = pow * base\n",
        "print(pow)"
      ],
      "execution_count": null,
      "outputs": []
    }
  ]
}