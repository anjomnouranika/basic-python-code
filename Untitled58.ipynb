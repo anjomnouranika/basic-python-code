{
  "nbformat": 4,
  "nbformat_minor": 0,
  "metadata": {
    "colab": {
      "name": "Untitled58.ipynb",
      "provenance": [],
      "authorship_tag": "ABX9TyOMrKUPgI6YriuZ6WAcBgc9",
      "include_colab_link": true
    },
    "kernelspec": {
      "name": "python3",
      "display_name": "Python 3"
    }
  },
  "cells": [
    {
      "cell_type": "markdown",
      "metadata": {
        "id": "view-in-github",
        "colab_type": "text"
      },
      "source": [
        "<a href=\"https://colab.research.google.com/github/anjomnouranika/basic-python-code/blob/master/Untitled58.ipynb\" target=\"_parent\"><img src=\"https://colab.research.google.com/assets/colab-badge.svg\" alt=\"Open In Colab\"/></a>"
      ]
    },
    {
      "cell_type": "code",
      "metadata": {
        "id": "393aHSDfPgHC",
        "colab_type": "code",
        "colab": {
          "base_uri": "https://localhost:8080/",
          "height": 90
        },
        "outputId": "b935003f-e731-450e-caa0-79be14342305"
      },
      "source": [
        "string = input(\"Please Enter the string:\")\n",
        "alphabate = 0\n",
        "digit = 0\n",
        "character = 0\n",
        "for i in string:\n",
        "  if (i>='a' and i<='z' or i>='A' and i<='Z'):\n",
        "    alphabate = alphabate + 1\n",
        "  elif(i>='0' and i<='9'):\n",
        "    digit = digit +1\n",
        "  else:\n",
        "    character = character + 1\n",
        "print(\"Alphabate =\",alphabate,\"\\nDigit =\",digit,\"\\nspecial charater =\",character)        "
      ],
      "execution_count": 20,
      "outputs": [
        {
          "output_type": "stream",
          "text": [
            "Please Enter the string:i@@love@@PYTHON@@3\n",
            "Alphabate = 11 \n",
            "Digit = 1 \n",
            "special charater = 6\n"
          ],
          "name": "stdout"
        }
      ]
    }
  ]
}