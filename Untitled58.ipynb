{
  "nbformat": 4,
  "nbformat_minor": 0,
  "metadata": {
    "colab": {
      "name": "Untitled58.ipynb",
      "provenance": [],
      "authorship_tag": "ABX9TyOdjM1Mmn/fmLivVHP/1M4w",
      "include_colab_link": true
    },
    "kernelspec": {
      "name": "python3",
      "display_name": "Python 3"
    }
  },
  "cells": [
    {
      "cell_type": "markdown",
      "metadata": {
        "id": "view-in-github",
        "colab_type": "text"
      },
      "source": [
        "<a href=\"https://colab.research.google.com/github/anjomnouranika/basic-python-code/blob/master/Untitled58.ipynb\" target=\"_parent\"><img src=\"https://colab.research.google.com/assets/colab-badge.svg\" alt=\"Open In Colab\"/></a>"
      ]
    },
    {
      "cell_type": "code",
      "metadata": {
        "id": "5PPNXpZzIhYU",
        "colab_type": "code",
        "colab": {
          "base_uri": "https://localhost:8080/",
          "height": 72
        },
        "outputId": "880ef833-9260-4cfc-d93d-54a4f19660de"
      },
      "source": [
        "string = input(\"Enter the string:\")\n",
        "vowel = 0\n",
        "consonent = 0\n",
        "for i in string:\n",
        "  \n",
        "    if(i =='a' or i=='e' or i=='i' or i=='o' or i=='u' or i =='A' or i=='E' or i=='I' or i=='O' or i=='U'  ):\n",
        "         vowel = vowel+1\n",
        "    else: \n",
        "       consonent = consonent +1\n",
        "\n",
        "print(\"Total number of vowel = %s\"%(vowel))\n",
        "print(\"Total number of consonent = %s\"%(consonent))\n",
        "\n"
      ],
      "execution_count": 14,
      "outputs": [
        {
          "output_type": "stream",
          "text": [
            "Enter the string:i love PYTHON\n",
            "Total number of vowel = 4\n",
            "Total number of consonent = 9\n"
          ],
          "name": "stdout"
        }
      ]
    }
  ]
}