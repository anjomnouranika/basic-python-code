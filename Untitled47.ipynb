{
  "nbformat": 4,
  "nbformat_minor": 0,
  "metadata": {
    "colab": {
      "name": "Untitled47.ipynb",
      "provenance": [],
      "collapsed_sections": [],
      "authorship_tag": "ABX9TyMCveOF7v3I/eHsykUwpv5y",
      "include_colab_link": true
    },
    "kernelspec": {
      "name": "python3",
      "display_name": "Python 3"
    }
  },
  "cells": [
    {
      "cell_type": "markdown",
      "metadata": {
        "id": "view-in-github",
        "colab_type": "text"
      },
      "source": [
        "<a href=\"https://colab.research.google.com/github/anjomnouranika/basic-python-code/blob/master/Untitled47.ipynb\" target=\"_parent\"><img src=\"https://colab.research.google.com/assets/colab-badge.svg\" alt=\"Open In Colab\"/></a>"
      ]
    },
    {
      "cell_type": "code",
      "metadata": {
        "id": "KOllBm4gtH9X",
        "colab_type": "code",
        "colab": {}
      },
      "source": [
        "number = int(input(\"number:\"))\n",
        "fact = 1\n",
        "for i in range(1,number+1):\n",
        "    fact = i * fact\n",
        "    i = i+1\n",
        "print(fact)\n",
        "\n"
      ],
      "execution_count": null,
      "outputs": []
    }
  ]
}