{
  "nbformat": 4,
  "nbformat_minor": 0,
  "metadata": {
    "colab": {
      "name": "Untitled54.ipynb",
      "provenance": [],
      "authorship_tag": "ABX9TyNApXsXutVrUwC/drmQdYWN",
      "include_colab_link": true
    },
    "kernelspec": {
      "name": "python3",
      "display_name": "Python 3"
    }
  },
  "cells": [
    {
      "cell_type": "markdown",
      "metadata": {
        "id": "view-in-github",
        "colab_type": "text"
      },
      "source": [
        "<a href=\"https://colab.research.google.com/github/anjomnouranika/basic-python-code/blob/master/Untitled54.ipynb\" target=\"_parent\"><img src=\"https://colab.research.google.com/assets/colab-badge.svg\" alt=\"Open In Colab\"/></a>"
      ]
    },
    {
      "cell_type": "code",
      "metadata": {
        "id": "5KpaCnPNLVZI",
        "colab_type": "code",
        "colab": {
          "base_uri": "https://localhost:8080/",
          "height": 90
        },
        "outputId": "d75e834d-8151-4678-eaed-5fe14bc1dacc"
      },
      "source": [
        "string = input(\"\")\n",
        "string1 = 0\n",
        "for i in string:\n",
        "  string1 = string\n",
        "print(\"First string = \", string);\n",
        "print(\"Second string = \", string1);\n",
        "print(\"Total characters copied = \", len(string1));\n"
      ],
      "execution_count": null,
      "outputs": [
        {
          "output_type": "stream",
          "text": [
            "anika\n",
            "First string =  anika\n",
            "Second string =  anika\n",
            "Total characters copied =  5\n"
          ],
          "name": "stdout"
        }
      ]
    },
    {
      "cell_type": "code",
      "metadata": {
        "id": "vbm3JUXLEsSB",
        "colab_type": "code",
        "colab": {
          "base_uri": "https://localhost:8080/",
          "height": 72
        },
        "outputId": "a6c79531-3b4c-436c-e484-28b540a93474"
      },
      "source": [
        "def copy(s1,s2):\n",
        "  for i in range (len(s1)):\n",
        "    s2[i] = s1[i]\n",
        "s1 = input(\"\")\n",
        "s2 = ['']*(len(s1))\n",
        "copy(s1,s2) \n",
        "print(\"\".join(s2))  \n",
        "print(\"Total characters copied:\",len(s1)) "
      ],
      "execution_count": 7,
      "outputs": [
        {
          "output_type": "stream",
          "text": [
            "anika\n",
            "anika\n",
            "Total characters copied: 5\n"
          ],
          "name": "stdout"
        }
      ]
    }
  ]
}