{
  "nbformat": 4,
  "nbformat_minor": 0,
  "metadata": {
    "colab": {
      "name": "Untitled56.ipynb",
      "provenance": [],
      "authorship_tag": "ABX9TyMa7SsyqcFPFtN6Y+mwwpzt",
      "include_colab_link": true
    },
    "kernelspec": {
      "name": "python3",
      "display_name": "Python 3"
    }
  },
  "cells": [
    {
      "cell_type": "markdown",
      "metadata": {
        "id": "view-in-github",
        "colab_type": "text"
      },
      "source": [
        "<a href=\"https://colab.research.google.com/github/anjomnouranika/basic-python-code/blob/master/Untitled56.ipynb\" target=\"_parent\"><img src=\"https://colab.research.google.com/assets/colab-badge.svg\" alt=\"Open In Colab\"/></a>"
      ]
    },
    {
      "cell_type": "code",
      "metadata": {
        "id": "m8rY3ULgNNX5",
        "colab_type": "code",
        "colab": {
          "base_uri": "https://localhost:8080/",
          "height": 72
        },
        "outputId": "bea0f2ef-5821-4828-f778-89e6ca0cb232"
      },
      "source": [
        "string1 = input(\"string1:\")\n",
        "string2 = input(\"string2:\")\n",
        "if(len(string1) == len(string2)):\n",
        "  print(\"Both strings are lexographically equal.\")\n",
        "else:\n",
        "  print(\"Both strings arenot lexographically equal.\")  "
      ],
      "execution_count": null,
      "outputs": [
        {
          "output_type": "stream",
          "text": [
            "string1:anika\n",
            "string2:anika\n",
            "Both strings are lexographically equal.\n"
          ],
          "name": "stdout"
        }
      ]
    },
    {
      "cell_type": "code",
      "metadata": {
        "id": "7BpbTIPFPtR2",
        "colab_type": "code",
        "colab": {
          "base_uri": "https://localhost:8080/",
          "height": 72
        },
        "outputId": "2a0cb223-7301-488e-f302-8af9680463d9"
      },
      "source": [
        "string1 = input(\"string1:\")\n",
        "string2 = input(\"string2:\")\n",
        "if (sorted(string1) == sorted(string2)):\n",
        "  print(\"Both strings are lexographically equal.\")\n",
        "else:\n",
        "  print(\"Both strings arenot lexographically equal.\")  "
      ],
      "execution_count": 3,
      "outputs": [
        {
          "output_type": "stream",
          "text": [
            "string1:i love python\n",
            "string2:i pyton love\n",
            "Both strings arenot lexographically equal.\n"
          ],
          "name": "stdout"
        }
      ]
    }
  ]
}