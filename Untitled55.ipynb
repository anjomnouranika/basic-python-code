{
  "nbformat": 4,
  "nbformat_minor": 0,
  "metadata": {
    "colab": {
      "name": "Untitled55.ipynb",
      "provenance": [],
      "authorship_tag": "ABX9TyPDmFdSOrnJxc9TlSwTvJOy",
      "include_colab_link": true
    },
    "kernelspec": {
      "name": "python3",
      "display_name": "Python 3"
    }
  },
  "cells": [
    {
      "cell_type": "markdown",
      "metadata": {
        "id": "view-in-github",
        "colab_type": "text"
      },
      "source": [
        "<a href=\"https://colab.research.google.com/github/anjomnouranika/basic-python-code/blob/master/Untitled55.ipynb\" target=\"_parent\"><img src=\"https://colab.research.google.com/assets/colab-badge.svg\" alt=\"Open In Colab\"/></a>"
      ]
    },
    {
      "cell_type": "code",
      "metadata": {
        "id": "ugKu1M3IF9Og",
        "colab_type": "code",
        "colab": {
          "base_uri": "https://localhost:8080/",
          "height": 72
        },
        "outputId": "91462d40-901c-4b23-cf68-455d98e2288e"
      },
      "source": [
        "string1 = input(\"string1:\")\n",
        "string2 = input(\"string2:\")\n",
        "print(\"concatenate string:\",(string1+ \" \"+string2))"
      ],
      "execution_count": 4,
      "outputs": [
        {
          "output_type": "stream",
          "text": [
            "string1:i love\n",
            "string2:python\n",
            "concatenate string: i love python\n"
          ],
          "name": "stdout"
        }
      ]
    },
    {
      "cell_type": "code",
      "metadata": {
        "id": "OrTOQsRXLIQV",
        "colab_type": "code",
        "colab": {
          "base_uri": "https://localhost:8080/",
          "height": 72
        },
        "outputId": "ef6a2bfb-b665-4fcd-f0d9-a3c75be9e0de"
      },
      "source": [
        "string1 = input(\"string1:\")\n",
        "string2 = input(\"string2:\")\n",
        "print(\"%s %s\"%(string1,string2))"
      ],
      "execution_count": 16,
      "outputs": [
        {
          "output_type": "stream",
          "text": [
            "string1:i love\n",
            "string2:python\n",
            "i love python\n"
          ],
          "name": "stdout"
        }
      ]
    },
    {
      "cell_type": "code",
      "metadata": {
        "id": "S23Y3DEEK_Tc",
        "colab_type": "code",
        "colab": {
          "base_uri": "https://localhost:8080/",
          "height": 90
        },
        "outputId": "cd1b4165-b225-46d7-acb3-7edb0855087d"
      },
      "source": [
        "string1 = input(\"string1:\")\n",
        "string2 = input(\"string2:\")\n",
        "print(\"\".join([string1,string2]))\n",
        "string3 = \"\".join([string1,string2])\n",
        "print(string3)"
      ],
      "execution_count": 12,
      "outputs": [
        {
          "output_type": "stream",
          "text": [
            "string1:ani\n",
            "string2:ka\n",
            "anika\n",
            "anika\n"
          ],
          "name": "stdout"
        }
      ]
    },
    {
      "cell_type": "code",
      "metadata": {
        "id": "OOtl2SOuMgJ_",
        "colab_type": "code",
        "colab": {
          "base_uri": "https://localhost:8080/",
          "height": 72
        },
        "outputId": "e1640c4d-4ff6-4374-8edd-00721bc3cd0a"
      },
      "source": [
        "string1 = input(\"string1:\")\n",
        "string2 = input(\"string2:\")\n",
        "print(\"{} {}\".format(string1,string2))"
      ],
      "execution_count": 18,
      "outputs": [
        {
          "output_type": "stream",
          "text": [
            "string1:i love\n",
            "string2:python\n",
            "i love python\n"
          ],
          "name": "stdout"
        }
      ]
    }
  ]
}