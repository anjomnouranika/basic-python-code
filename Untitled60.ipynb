{
  "nbformat": 4,
  "nbformat_minor": 0,
  "metadata": {
    "colab": {
      "name": "Untitled60.ipynb",
      "provenance": [],
      "authorship_tag": "ABX9TyNx5xLaczG2T0fM7hkfFXgj",
      "include_colab_link": true
    },
    "kernelspec": {
      "name": "python3",
      "display_name": "Python 3"
    }
  },
  "cells": [
    {
      "cell_type": "markdown",
      "metadata": {
        "id": "view-in-github",
        "colab_type": "text"
      },
      "source": [
        "<a href=\"https://colab.research.google.com/github/anjomnouranika/basic-python-code/blob/master/Untitled60.ipynb\" target=\"_parent\"><img src=\"https://colab.research.google.com/assets/colab-badge.svg\" alt=\"Open In Colab\"/></a>"
      ]
    },
    {
      "cell_type": "code",
      "metadata": {
        "id": "Jefi7W89zkwk",
        "outputId": "734031e2-17f5-4f71-98bc-9ba44c022a19",
        "colab": {
          "base_uri": "https://localhost:8080/",
          "height": 51
        }
      },
      "source": [
        "string = input(\"\")\n",
        "string1 = string[::-1]\n",
        "if(string == string1):\n",
        "  print(\"Palindrome string\")\n",
        "else: \n",
        "  print(\"Not Palindrome string\") \n"
      ],
      "execution_count": 7,
      "outputs": [
        {
          "output_type": "stream",
          "text": [
            "hello\n",
            "Not Palindrome string\n"
          ],
          "name": "stdout"
        }
      ]
    },
    {
      "cell_type": "code",
      "metadata": {
        "id": "pH1x4eJX0BTd",
        "outputId": "0de10aec-1df4-41ef-bff3-6b39b27119ff",
        "colab": {
          "base_uri": "https://localhost:8080/",
          "height": 51
        }
      },
      "source": [
        "string = input(\"\")\n",
        "string1 = \"\"\n",
        "i = len(string) - 1\n",
        "while(i >= 0):\n",
        "  string1 = string1 + string[i]\n",
        "  i = i -1\n",
        "if (string == string1):\n",
        "  print(\"Palindrome string\")\n",
        "else:\n",
        "  print(\"not Palindrome string\")    "
      ],
      "execution_count": 8,
      "outputs": [
        {
          "output_type": "stream",
          "text": [
            "madam\n",
            "Palindrome string\n"
          ],
          "name": "stdout"
        }
      ]
    }
  ]
}