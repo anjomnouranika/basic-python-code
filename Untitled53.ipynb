{
  "nbformat": 4,
  "nbformat_minor": 0,
  "metadata": {
    "colab": {
      "name": "Untitled53.ipynb",
      "provenance": [],
      "authorship_tag": "ABX9TyPqy3ZUNTaqfXqQIIkD48Py",
      "include_colab_link": true
    },
    "kernelspec": {
      "name": "python3",
      "display_name": "Python 3"
    }
  },
  "cells": [
    {
      "cell_type": "markdown",
      "metadata": {
        "id": "view-in-github",
        "colab_type": "text"
      },
      "source": [
        "<a href=\"https://colab.research.google.com/github/anjomnouranika/basic-python-code/blob/master/Untitled53.ipynb\" target=\"_parent\"><img src=\"https://colab.research.google.com/assets/colab-badge.svg\" alt=\"Open In Colab\"/></a>"
      ]
    },
    {
      "cell_type": "code",
      "metadata": {
        "id": "yn8C3IkaJIHe",
        "colab_type": "code",
        "colab": {
          "base_uri": "https://localhost:8080/",
          "height": 35
        },
        "outputId": "66c6e4a8-6033-48c2-ab98-571740a611e0"
      },
      "source": [
        "string = \"I love programming. I love Codeforwin.\"\n",
        "print(len(string))"
      ],
      "execution_count": 2,
      "outputs": [
        {
          "output_type": "stream",
          "text": [
            "38\n"
          ],
          "name": "stdout"
        }
      ]
    },
    {
      "cell_type": "code",
      "metadata": {
        "id": "EpX0aV9OJyQO",
        "colab_type": "code",
        "colab": {
          "base_uri": "https://localhost:8080/",
          "height": 54
        },
        "outputId": "d18a6d1c-3531-48b2-9bfa-3b9a537b9bdb"
      },
      "source": [
        "string = input(\"Enter string:\")\n",
        "count = 0\n",
        "for i in string:\n",
        "  count = count +1\n",
        "print(\"lenth of string:\",count)  \n"
      ],
      "execution_count": 4,
      "outputs": [
        {
          "output_type": "stream",
          "text": [
            "Enter string:\"I love programming. I love Codeforwin.\"\n",
            "lenth of string: 40\n"
          ],
          "name": "stdout"
        }
      ]
    },
    {
      "cell_type": "code",
      "metadata": {
        "id": "Z8Jih8d3KehA",
        "colab_type": "code",
        "colab": {
          "base_uri": "https://localhost:8080/",
          "height": 54
        },
        "outputId": "265ca783-964d-4dd6-aad9-992f6c439553"
      },
      "source": [
        "string = input(\"\")\n",
        "print(len(string))"
      ],
      "execution_count": 5,
      "outputs": [
        {
          "output_type": "stream",
          "text": [
            "\"I love programming. I love Codeforwin.\"\n",
            "40\n"
          ],
          "name": "stdout"
        }
      ]
    }
  ]
}