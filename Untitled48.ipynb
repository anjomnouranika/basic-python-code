{
  "nbformat": 4,
  "nbformat_minor": 0,
  "metadata": {
    "colab": {
      "name": "Untitled48.ipynb",
      "provenance": [],
      "collapsed_sections": [],
      "authorship_tag": "ABX9TyOa9oVjUSwVfgPUriPupcs9",
      "include_colab_link": true
    },
    "kernelspec": {
      "name": "python3",
      "display_name": "Python 3"
    }
  },
  "cells": [
    {
      "cell_type": "markdown",
      "metadata": {
        "id": "view-in-github",
        "colab_type": "text"
      },
      "source": [
        "<a href=\"https://colab.research.google.com/github/anjomnouranika/basic-python-code/blob/master/Untitled48.ipynb\" target=\"_parent\"><img src=\"https://colab.research.google.com/assets/colab-badge.svg\" alt=\"Open In Colab\"/></a>"
      ]
    },
    {
      "cell_type": "code",
      "metadata": {
        "id": "ubEwakbctfLa",
        "colab_type": "code",
        "colab": {}
      },
      "source": [
        "number = int(input(\"number = \"))\n",
        "for i in range(1,number+1):\n",
        "    if (number%i == 0):\n",
        "        print(i)"
      ],
      "execution_count": null,
      "outputs": []
    }
  ]
}