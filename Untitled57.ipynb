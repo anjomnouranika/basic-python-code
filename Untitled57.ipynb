{
  "nbformat": 4,
  "nbformat_minor": 0,
  "metadata": {
    "colab": {
      "name": "Untitled57.ipynb",
      "provenance": [],
      "authorship_tag": "ABX9TyO40sfLpVXoapB3a4yu9K6N",
      "include_colab_link": true
    },
    "kernelspec": {
      "name": "python3",
      "display_name": "Python 3"
    }
  },
  "cells": [
    {
      "cell_type": "markdown",
      "metadata": {
        "id": "view-in-github",
        "colab_type": "text"
      },
      "source": [
        "<a href=\"https://colab.research.google.com/github/anjomnouranika/basic-python-code/blob/master/Untitled57.ipynb\" target=\"_parent\"><img src=\"https://colab.research.google.com/assets/colab-badge.svg\" alt=\"Open In Colab\"/></a>"
      ]
    },
    {
      "cell_type": "code",
      "metadata": {
        "id": "SXvXPCn6PF3Y",
        "colab_type": "code",
        "colab": {
          "base_uri": "https://localhost:8080/",
          "height": 54
        },
        "outputId": "ecc55213-8b3b-4640-ab24-60a7daeead24"
      },
      "source": [
        "string = input(\"\")\n",
        "print(string.swapcase())\n"
      ],
      "execution_count": 6,
      "outputs": [
        {
          "output_type": "stream",
          "text": [
            "anika\n",
            "ANIKA\n"
          ],
          "name": "stdout"
        }
      ]
    },
    {
      "cell_type": "code",
      "metadata": {
        "id": "CpDC0yTFTnbi",
        "colab_type": "code",
        "colab": {
          "base_uri": "https://localhost:8080/",
          "height": 54
        },
        "outputId": "22f78824-d45d-4abd-bb82-8bdcdacd421b"
      },
      "source": [
        "string = input(\"\")\n",
        "print(string.upper())"
      ],
      "execution_count": 8,
      "outputs": [
        {
          "output_type": "stream",
          "text": [
            "python\n",
            "PYTHON\n"
          ],
          "name": "stdout"
        }
      ]
    }
  ]
}